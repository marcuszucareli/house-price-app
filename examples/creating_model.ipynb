{
 "cells": [
  {
   "cell_type": "markdown",
   "id": "ee785022",
   "metadata": {},
   "source": [
    "# 📓 ~~The Hitchhiker’s~~ Guide for model contribution\n",
    "\n",
    "This is a walkthrough notebook designed to guide you through creating your model for contributing to our Open Source project.\n",
    "\n",
    "This guide assumes you already have a cleaned dataset and will cover the creation of a data pipeline and a machine learning model using scikit-learn. It also explains how to prepare the model to meet the project requirements and how to test it in our web app."
   ]
  },
  {
   "cell_type": "markdown",
   "id": "39610993",
   "metadata": {},
   "source": [
    "## 🎯 Remembering the goals\n",
    "\n",
    "The housing estimate AI was built with two purposes that every contributor should keep in mind:\n",
    "\n",
    "- Allowing people to easily get a quick, approximate idea of their property's value, without having to sign up for a loan startup’s mailing list.\n",
    "- Help beginners in data science contribute to an open source project."
   ]
  },
  {
   "cell_type": "markdown",
   "id": "f2f5b78b",
   "metadata": {},
   "source": [
    "## ⛔ Limitations\n",
    "\n",
    "Considering our goals, somes constraints are necessary to make things easier to our users and also control the costs of cloud computing:"
   ]
  },
  {
   "cell_type": "markdown",
   "id": "ae37c8f1",
   "metadata": {},
   "source": [
    "#### **INPUT TYPES**\n",
    "\n",
    "We provide 5 input types that you can use to retrieve data from the user:\n",
    "- *int* and *float* rendered as a [streamlit number input](https://docs.streamlit.io/develop/api-reference/widgets/st.number_input) \n",
    "- *bool* rendered as a [streamlit toggle input](https://docs.streamlit.io/develop/api-reference/widgets/st.toggle)\n",
    "- *categorical* rendered as a [streamlit selectbox input](https://docs.streamlit.io/develop/api-reference/widgets/st.selectbox)\n",
    "- *map* is a special input that will retrieve latitude and longitude based on the user selection in a [folium map](https://folium.streamlit.app/)\n",
    "\n",
    "**⚠️ ALL** the **USERS INPUTS** must be one of these 5! ⚠️"
   ]
  },
  {
   "cell_type": "markdown",
   "id": "22f92b2c",
   "metadata": {},
   "source": [
    "#### **MODEL SIZE**\n",
    "\n",
    "To reduce costs with cloud resources we **limit the size of models to 500MB**"
   ]
  },
  {
   "cell_type": "markdown",
   "id": "3efb1c3c",
   "metadata": {},
   "source": [
    "#### **DATA PIPELINE**\n",
    "   \n",
    "All preprocessing, feature engineering steps, and transformations must be encapsulated within the model pipeline, as we aim to keep the project as reusable and maintainable as possible. The model must be able to perform all these steps using only the provided pandas DataFrame containing the user inputs."
   ]
  },
  {
   "cell_type": "markdown",
   "id": "db0bcecd",
   "metadata": {},
   "source": [
    "#### **LIBRARY VERSIONS**\n",
    "The environment we use to run our app and api uses the libraries and versions listed in the requirements folder. To avoid compatibility errors, the `ModelLogInput` class will open and save your model again using our environment. Most times it will work fine, but if you run into any problems we suggest you to recreate your model using our environment. Also, [test your model](#testing-your-model) at the end of this guide."
   ]
  },
  {
   "cell_type": "markdown",
   "id": "2dfa54db",
   "metadata": {},
   "source": [
    "## 📊 Model performance\n",
    "\n",
    "Due to the complexities and nuances involved in real estate appraisal, our model’s estimate should be seen as a helpful guideline or a starting point, not as an exact or definitive valuation. Given the constraints on features and model size, we evaluate the models based on their [Mean Absolute Percentage Error (MAPE)](https://en.wikipedia.org/wiki/Mean_absolute_percentage_error) as follows:\n",
    "\n",
    "MAPE < 20% - decent\n",
    "\n",
    "MAPE < 15% - good\n",
    "\n",
    "MAPE < 10% - excellent"
   ]
  },
  {
   "cell_type": "markdown",
   "id": "747eacef",
   "metadata": {},
   "source": [
    "## 📋 Summary\n",
    "\n",
    "💡If you **already have a model** you can jump to the [model checklist](#model-checklist).\n",
    "\n",
    "1. [Creating the model](#creating-the-model)\n",
    "    1. [Brief summary of the data](#brief-summary-of-the-data)\n",
    "    2. [Feature engineering](#feature-engineering)\n",
    "    3. [Creating pipeline](#creating-pipeline)\n",
    "    4. [Scaling the target variable](#scaling-the-target-variable)\n",
    "    5. [Training the model](#training-the-model)\n",
    "2. [Model checklist](#model-checklist)\n",
    "3. [Preparing your model](#preparing-your-model)"
   ]
  },
  {
   "cell_type": "markdown",
   "id": "0df7ee83",
   "metadata": {},
   "source": [
    "# Creating the model"
   ]
  },
  {
   "cell_type": "markdown",
   "id": "2a4bc2af",
   "metadata": {},
   "source": [
    "## Brief summary of the data\n",
    "\n",
    "The `apartments_data.csv` file is a dataset with almost 900 properties for sale in [São José dos Campos](https://en.wikipedia.org/wiki/S%C3%A3o_Jos%C3%A9_dos_Campos). It contains the information listed bellow:\n",
    "\n",
    "- *neighbourhood (str):* a **categorical** variable representing the location of the property\n",
    "- *area (float):* the area of the property\n",
    "- *rooms (int):* the number of rooms in the property\n",
    "- *parking (int)* the number of parking spaces available\n",
    "- *bathrooms (int)* the number of bathrooms in the property\n",
    "- *price (float)* property's price\n",
    "- *lat_value (float)* the latitude of the property street \n",
    "- *lon_value (float)* the longitude of the property street\n",
    "- *has_multiple_parking_spaces (bool)* If the property has at least 2 parking spaces\n"
   ]
  },
  {
   "cell_type": "code",
   "execution_count": 25,
   "id": "87c812a6",
   "metadata": {},
   "outputs": [
    {
     "name": "stdout",
     "output_type": "stream",
     "text": [
      "Notebook working directory set to: /service\n"
     ]
    }
   ],
   "source": [
    "# Set notebook workdir to the project directory\n",
    "import os\n",
    "import sys\n",
    "from pathlib import Path\n",
    "\n",
    "project_root = Path(\"/service\").resolve()\n",
    "\n",
    "if str(project_root) not in sys.path:\n",
    "    sys.path.append(str(project_root))\n",
    "\n",
    "os.chdir(project_root)\n",
    "\n",
    "print(\"Notebook working directory set to:\", project_root)\n",
    "\n"
   ]
  },
  {
   "cell_type": "code",
   "execution_count": 26,
   "id": "a9a55294",
   "metadata": {},
   "outputs": [],
   "source": [
    "import pandas as pd"
   ]
  },
  {
   "cell_type": "code",
   "execution_count": 27,
   "id": "e9eae5eb",
   "metadata": {},
   "outputs": [
    {
     "data": {
      "text/html": [
       "<div>\n",
       "<style scoped>\n",
       "    .dataframe tbody tr th:only-of-type {\n",
       "        vertical-align: middle;\n",
       "    }\n",
       "\n",
       "    .dataframe tbody tr th {\n",
       "        vertical-align: top;\n",
       "    }\n",
       "\n",
       "    .dataframe thead th {\n",
       "        text-align: right;\n",
       "    }\n",
       "</style>\n",
       "<table border=\"1\" class=\"dataframe\">\n",
       "  <thead>\n",
       "    <tr style=\"text-align: right;\">\n",
       "      <th></th>\n",
       "      <th>neighbourhood</th>\n",
       "      <th>area</th>\n",
       "      <th>rooms</th>\n",
       "      <th>parking</th>\n",
       "      <th>bathrooms</th>\n",
       "      <th>price</th>\n",
       "      <th>lat_value</th>\n",
       "      <th>lon_value</th>\n",
       "      <th>has_multiple_parking_spaces</th>\n",
       "    </tr>\n",
       "  </thead>\n",
       "  <tbody>\n",
       "    <tr>\n",
       "      <th>0</th>\n",
       "      <td>Jardim Esplanada</td>\n",
       "      <td>124.77</td>\n",
       "      <td>4</td>\n",
       "      <td>3</td>\n",
       "      <td>3</td>\n",
       "      <td>1090000.0</td>\n",
       "      <td>-23.197917</td>\n",
       "      <td>-45.911362</td>\n",
       "      <td>1</td>\n",
       "    </tr>\n",
       "    <tr>\n",
       "      <th>1</th>\n",
       "      <td>Palmeiras de São José</td>\n",
       "      <td>124.52</td>\n",
       "      <td>2</td>\n",
       "      <td>0</td>\n",
       "      <td>2</td>\n",
       "      <td>335000.0</td>\n",
       "      <td>-23.250217</td>\n",
       "      <td>-45.917066</td>\n",
       "      <td>0</td>\n",
       "    </tr>\n",
       "    <tr>\n",
       "      <th>2</th>\n",
       "      <td>Jardim Oswaldo Cruz</td>\n",
       "      <td>124.65</td>\n",
       "      <td>3</td>\n",
       "      <td>2</td>\n",
       "      <td>3</td>\n",
       "      <td>590000.0</td>\n",
       "      <td>-23.201250</td>\n",
       "      <td>-45.883484</td>\n",
       "      <td>1</td>\n",
       "    </tr>\n",
       "    <tr>\n",
       "      <th>3</th>\n",
       "      <td>Parque Residencial Flamboyant</td>\n",
       "      <td>124.97</td>\n",
       "      <td>2</td>\n",
       "      <td>1</td>\n",
       "      <td>2</td>\n",
       "      <td>300000.0</td>\n",
       "      <td>-23.214223</td>\n",
       "      <td>-45.851209</td>\n",
       "      <td>0</td>\n",
       "    </tr>\n",
       "    <tr>\n",
       "      <th>4</th>\n",
       "      <td>Vila Ema</td>\n",
       "      <td>124.15</td>\n",
       "      <td>2</td>\n",
       "      <td>2</td>\n",
       "      <td>2</td>\n",
       "      <td>848500.0</td>\n",
       "      <td>-23.203881</td>\n",
       "      <td>-45.902105</td>\n",
       "      <td>1</td>\n",
       "    </tr>\n",
       "    <tr>\n",
       "      <th>...</th>\n",
       "      <td>...</td>\n",
       "      <td>...</td>\n",
       "      <td>...</td>\n",
       "      <td>...</td>\n",
       "      <td>...</td>\n",
       "      <td>...</td>\n",
       "      <td>...</td>\n",
       "      <td>...</td>\n",
       "      <td>...</td>\n",
       "    </tr>\n",
       "    <tr>\n",
       "      <th>885</th>\n",
       "      <td>Jardim Santa Inês III</td>\n",
       "      <td>124.79</td>\n",
       "      <td>2</td>\n",
       "      <td>1</td>\n",
       "      <td>1</td>\n",
       "      <td>215000.0</td>\n",
       "      <td>-23.171528</td>\n",
       "      <td>-45.789145</td>\n",
       "      <td>0</td>\n",
       "    </tr>\n",
       "    <tr>\n",
       "      <th>886</th>\n",
       "      <td>Jardim das Colinas</td>\n",
       "      <td>124.72</td>\n",
       "      <td>2</td>\n",
       "      <td>2</td>\n",
       "      <td>2</td>\n",
       "      <td>744000.0</td>\n",
       "      <td>-23.198504</td>\n",
       "      <td>-45.912865</td>\n",
       "      <td>1</td>\n",
       "    </tr>\n",
       "    <tr>\n",
       "      <th>887</th>\n",
       "      <td>Jardim Torrão de Ouro</td>\n",
       "      <td>124.30</td>\n",
       "      <td>2</td>\n",
       "      <td>1</td>\n",
       "      <td>2</td>\n",
       "      <td>215000.0</td>\n",
       "      <td>-23.272102</td>\n",
       "      <td>-45.864272</td>\n",
       "      <td>0</td>\n",
       "    </tr>\n",
       "    <tr>\n",
       "      <th>888</th>\n",
       "      <td>Jardim São Dimas</td>\n",
       "      <td>124.54</td>\n",
       "      <td>3</td>\n",
       "      <td>1</td>\n",
       "      <td>2</td>\n",
       "      <td>578000.0</td>\n",
       "      <td>-23.197097</td>\n",
       "      <td>-45.888142</td>\n",
       "      <td>0</td>\n",
       "    </tr>\n",
       "    <tr>\n",
       "      <th>889</th>\n",
       "      <td>Centro</td>\n",
       "      <td>124.28</td>\n",
       "      <td>2</td>\n",
       "      <td>1</td>\n",
       "      <td>1</td>\n",
       "      <td>390000.0</td>\n",
       "      <td>-23.190938</td>\n",
       "      <td>-45.886436</td>\n",
       "      <td>0</td>\n",
       "    </tr>\n",
       "  </tbody>\n",
       "</table>\n",
       "<p>890 rows × 9 columns</p>\n",
       "</div>"
      ],
      "text/plain": [
       "                     neighbourhood    area  rooms  parking  bathrooms  \\\n",
       "0                 Jardim Esplanada  124.77      4        3          3   \n",
       "1            Palmeiras de São José  124.52      2        0          2   \n",
       "2              Jardim Oswaldo Cruz  124.65      3        2          3   \n",
       "3    Parque Residencial Flamboyant  124.97      2        1          2   \n",
       "4                         Vila Ema  124.15      2        2          2   \n",
       "..                             ...     ...    ...      ...        ...   \n",
       "885          Jardim Santa Inês III  124.79      2        1          1   \n",
       "886             Jardim das Colinas  124.72      2        2          2   \n",
       "887          Jardim Torrão de Ouro  124.30      2        1          2   \n",
       "888               Jardim São Dimas  124.54      3        1          2   \n",
       "889                         Centro  124.28      2        1          1   \n",
       "\n",
       "         price  lat_value  lon_value  has_multiple_parking_spaces  \n",
       "0    1090000.0 -23.197917 -45.911362                            1  \n",
       "1     335000.0 -23.250217 -45.917066                            0  \n",
       "2     590000.0 -23.201250 -45.883484                            1  \n",
       "3     300000.0 -23.214223 -45.851209                            0  \n",
       "4     848500.0 -23.203881 -45.902105                            1  \n",
       "..         ...        ...        ...                          ...  \n",
       "885   215000.0 -23.171528 -45.789145                            0  \n",
       "886   744000.0 -23.198504 -45.912865                            1  \n",
       "887   215000.0 -23.272102 -45.864272                            0  \n",
       "888   578000.0 -23.197097 -45.888142                            0  \n",
       "889   390000.0 -23.190938 -45.886436                            0  \n",
       "\n",
       "[890 rows x 9 columns]"
      ]
     },
     "execution_count": 27,
     "metadata": {},
     "output_type": "execute_result"
    }
   ],
   "source": [
    "df = pd.read_csv('./examples/apartments_data.csv')\n",
    "df"
   ]
  },
  {
   "cell_type": "markdown",
   "id": "80d9d57e",
   "metadata": {},
   "source": [
    "## Feature engineering\n",
    "\n",
    "When manipulating the dataset, focus on encapsulating transformations into functions or transformer classes, as this is the recommended way to integrate them into scikit-learn pipelines.\n",
    "\n",
    "For our example, we will create a float-type input to calculate the average room size."
   ]
  },
  {
   "cell_type": "code",
   "execution_count": 28,
   "id": "7c24646f",
   "metadata": {},
   "outputs": [
    {
     "data": {
      "text/html": [
       "<div>\n",
       "<style scoped>\n",
       "    .dataframe tbody tr th:only-of-type {\n",
       "        vertical-align: middle;\n",
       "    }\n",
       "\n",
       "    .dataframe tbody tr th {\n",
       "        vertical-align: top;\n",
       "    }\n",
       "\n",
       "    .dataframe thead th {\n",
       "        text-align: right;\n",
       "    }\n",
       "</style>\n",
       "<table border=\"1\" class=\"dataframe\">\n",
       "  <thead>\n",
       "    <tr style=\"text-align: right;\">\n",
       "      <th></th>\n",
       "      <th>neighbourhood</th>\n",
       "      <th>area</th>\n",
       "      <th>rooms</th>\n",
       "      <th>parking</th>\n",
       "      <th>bathrooms</th>\n",
       "      <th>price</th>\n",
       "      <th>lat_value</th>\n",
       "      <th>lon_value</th>\n",
       "      <th>has_multiple_parking_spaces</th>\n",
       "      <th>avg_room_size</th>\n",
       "    </tr>\n",
       "  </thead>\n",
       "  <tbody>\n",
       "    <tr>\n",
       "      <th>0</th>\n",
       "      <td>Jardim Esplanada</td>\n",
       "      <td>124.77</td>\n",
       "      <td>4</td>\n",
       "      <td>3</td>\n",
       "      <td>3</td>\n",
       "      <td>1090000.0</td>\n",
       "      <td>-23.197917</td>\n",
       "      <td>-45.911362</td>\n",
       "      <td>1</td>\n",
       "      <td>31.19</td>\n",
       "    </tr>\n",
       "    <tr>\n",
       "      <th>1</th>\n",
       "      <td>Palmeiras de São José</td>\n",
       "      <td>124.52</td>\n",
       "      <td>2</td>\n",
       "      <td>0</td>\n",
       "      <td>2</td>\n",
       "      <td>335000.0</td>\n",
       "      <td>-23.250217</td>\n",
       "      <td>-45.917066</td>\n",
       "      <td>0</td>\n",
       "      <td>62.26</td>\n",
       "    </tr>\n",
       "    <tr>\n",
       "      <th>2</th>\n",
       "      <td>Jardim Oswaldo Cruz</td>\n",
       "      <td>124.65</td>\n",
       "      <td>3</td>\n",
       "      <td>2</td>\n",
       "      <td>3</td>\n",
       "      <td>590000.0</td>\n",
       "      <td>-23.201250</td>\n",
       "      <td>-45.883484</td>\n",
       "      <td>1</td>\n",
       "      <td>41.55</td>\n",
       "    </tr>\n",
       "    <tr>\n",
       "      <th>3</th>\n",
       "      <td>Parque Residencial Flamboyant</td>\n",
       "      <td>124.97</td>\n",
       "      <td>2</td>\n",
       "      <td>1</td>\n",
       "      <td>2</td>\n",
       "      <td>300000.0</td>\n",
       "      <td>-23.214223</td>\n",
       "      <td>-45.851209</td>\n",
       "      <td>0</td>\n",
       "      <td>62.48</td>\n",
       "    </tr>\n",
       "    <tr>\n",
       "      <th>4</th>\n",
       "      <td>Vila Ema</td>\n",
       "      <td>124.15</td>\n",
       "      <td>2</td>\n",
       "      <td>2</td>\n",
       "      <td>2</td>\n",
       "      <td>848500.0</td>\n",
       "      <td>-23.203881</td>\n",
       "      <td>-45.902105</td>\n",
       "      <td>1</td>\n",
       "      <td>62.08</td>\n",
       "    </tr>\n",
       "    <tr>\n",
       "      <th>...</th>\n",
       "      <td>...</td>\n",
       "      <td>...</td>\n",
       "      <td>...</td>\n",
       "      <td>...</td>\n",
       "      <td>...</td>\n",
       "      <td>...</td>\n",
       "      <td>...</td>\n",
       "      <td>...</td>\n",
       "      <td>...</td>\n",
       "      <td>...</td>\n",
       "    </tr>\n",
       "    <tr>\n",
       "      <th>885</th>\n",
       "      <td>Jardim Santa Inês III</td>\n",
       "      <td>124.79</td>\n",
       "      <td>2</td>\n",
       "      <td>1</td>\n",
       "      <td>1</td>\n",
       "      <td>215000.0</td>\n",
       "      <td>-23.171528</td>\n",
       "      <td>-45.789145</td>\n",
       "      <td>0</td>\n",
       "      <td>62.40</td>\n",
       "    </tr>\n",
       "    <tr>\n",
       "      <th>886</th>\n",
       "      <td>Jardim das Colinas</td>\n",
       "      <td>124.72</td>\n",
       "      <td>2</td>\n",
       "      <td>2</td>\n",
       "      <td>2</td>\n",
       "      <td>744000.0</td>\n",
       "      <td>-23.198504</td>\n",
       "      <td>-45.912865</td>\n",
       "      <td>1</td>\n",
       "      <td>62.36</td>\n",
       "    </tr>\n",
       "    <tr>\n",
       "      <th>887</th>\n",
       "      <td>Jardim Torrão de Ouro</td>\n",
       "      <td>124.30</td>\n",
       "      <td>2</td>\n",
       "      <td>1</td>\n",
       "      <td>2</td>\n",
       "      <td>215000.0</td>\n",
       "      <td>-23.272102</td>\n",
       "      <td>-45.864272</td>\n",
       "      <td>0</td>\n",
       "      <td>62.15</td>\n",
       "    </tr>\n",
       "    <tr>\n",
       "      <th>888</th>\n",
       "      <td>Jardim São Dimas</td>\n",
       "      <td>124.54</td>\n",
       "      <td>3</td>\n",
       "      <td>1</td>\n",
       "      <td>2</td>\n",
       "      <td>578000.0</td>\n",
       "      <td>-23.197097</td>\n",
       "      <td>-45.888142</td>\n",
       "      <td>0</td>\n",
       "      <td>41.51</td>\n",
       "    </tr>\n",
       "    <tr>\n",
       "      <th>889</th>\n",
       "      <td>Centro</td>\n",
       "      <td>124.28</td>\n",
       "      <td>2</td>\n",
       "      <td>1</td>\n",
       "      <td>1</td>\n",
       "      <td>390000.0</td>\n",
       "      <td>-23.190938</td>\n",
       "      <td>-45.886436</td>\n",
       "      <td>0</td>\n",
       "      <td>62.14</td>\n",
       "    </tr>\n",
       "  </tbody>\n",
       "</table>\n",
       "<p>890 rows × 10 columns</p>\n",
       "</div>"
      ],
      "text/plain": [
       "                     neighbourhood    area  rooms  parking  bathrooms  \\\n",
       "0                 Jardim Esplanada  124.77      4        3          3   \n",
       "1            Palmeiras de São José  124.52      2        0          2   \n",
       "2              Jardim Oswaldo Cruz  124.65      3        2          3   \n",
       "3    Parque Residencial Flamboyant  124.97      2        1          2   \n",
       "4                         Vila Ema  124.15      2        2          2   \n",
       "..                             ...     ...    ...      ...        ...   \n",
       "885          Jardim Santa Inês III  124.79      2        1          1   \n",
       "886             Jardim das Colinas  124.72      2        2          2   \n",
       "887          Jardim Torrão de Ouro  124.30      2        1          2   \n",
       "888               Jardim São Dimas  124.54      3        1          2   \n",
       "889                         Centro  124.28      2        1          1   \n",
       "\n",
       "         price  lat_value  lon_value  has_multiple_parking_spaces  \\\n",
       "0    1090000.0 -23.197917 -45.911362                            1   \n",
       "1     335000.0 -23.250217 -45.917066                            0   \n",
       "2     590000.0 -23.201250 -45.883484                            1   \n",
       "3     300000.0 -23.214223 -45.851209                            0   \n",
       "4     848500.0 -23.203881 -45.902105                            1   \n",
       "..         ...        ...        ...                          ...   \n",
       "885   215000.0 -23.171528 -45.789145                            0   \n",
       "886   744000.0 -23.198504 -45.912865                            1   \n",
       "887   215000.0 -23.272102 -45.864272                            0   \n",
       "888   578000.0 -23.197097 -45.888142                            0   \n",
       "889   390000.0 -23.190938 -45.886436                            0   \n",
       "\n",
       "     avg_room_size  \n",
       "0            31.19  \n",
       "1            62.26  \n",
       "2            41.55  \n",
       "3            62.48  \n",
       "4            62.08  \n",
       "..             ...  \n",
       "885          62.40  \n",
       "886          62.36  \n",
       "887          62.15  \n",
       "888          41.51  \n",
       "889          62.14  \n",
       "\n",
       "[890 rows x 10 columns]"
      ]
     },
     "execution_count": 28,
     "metadata": {},
     "output_type": "execute_result"
    }
   ],
   "source": [
    "def make_feature_engineering(df: pd.DataFrame) -> pd.DataFrame:\n",
    "    df['avg_room_size'] = round(df['area'] / df['rooms'], 2)\n",
    "    df['avg_room_size'].astype(float)\n",
    "    return df\n",
    "\n",
    "df = make_feature_engineering(df)\n",
    "df"
   ]
  },
  {
   "cell_type": "markdown",
   "id": "41c306f9",
   "metadata": {},
   "source": [
    "## Creating pipeline\n",
    "\n",
    "After performing the feature engineering, you will have to create model's pipeline. In this notebook we will use a random forest model, and our pipeline will perform the following steps:\n",
    "\n",
    "- Feature engineering\n",
    "- Scale numeric features\n",
    "- Encode categorical features\n",
    "- Define the model to random forest"
   ]
  },
  {
   "cell_type": "code",
   "execution_count": 29,
   "id": "92cdfddb",
   "metadata": {},
   "outputs": [],
   "source": [
    "from sklearn.pipeline import Pipeline\n",
    "from sklearn.preprocessing import FunctionTransformer, StandardScaler, \\\n",
    "    OrdinalEncoder\n",
    "from sklearn.compose import ColumnTransformer, TransformedTargetRegressor\n",
    "from sklearn.ensemble import RandomForestRegressor\n",
    "from sklearn.model_selection import GridSearchCV\n",
    "from sklearn.model_selection import train_test_split\n",
    "from sklearn.metrics import mean_absolute_percentage_error\n",
    "from sklearn.metrics import make_scorer"
   ]
  },
  {
   "cell_type": "code",
   "execution_count": 30,
   "id": "461c005d",
   "metadata": {},
   "outputs": [],
   "source": [
    "# Define the numeric, boolean and categorical features\n",
    "numeric_features = ['area', 'rooms', 'parking',\n",
    "                     'bathrooms', 'lat_value', 'lon_value', 'avg_room_size']\n",
    "categorical_features = ['neighbourhood']\n",
    "bool_features = ['has_multiple_parking_spaces']"
   ]
  },
  {
   "cell_type": "code",
   "execution_count": 31,
   "id": "a7e23a05",
   "metadata": {},
   "outputs": [],
   "source": [
    "# Here we create our feature engineering pipeline step\n",
    "feature_engineering  = \\\n",
    "    (\"feature_engineering\", FunctionTransformer(make_feature_engineering))"
   ]
  },
  {
   "cell_type": "code",
   "execution_count": 32,
   "id": "aee17544",
   "metadata": {},
   "outputs": [],
   "source": [
    "# This step will be responsable for applying the standard scaling and encoding\n",
    "# in our dataset\n",
    "\n",
    "preprocessor = (\n",
    "    \"preprocessing\",\n",
    "    ColumnTransformer(\n",
    "        transformers=[\n",
    "            (\"scaler\", StandardScaler(), numeric_features),\n",
    "            (\"ordinal\", OrdinalEncoder(\n",
    "                handle_unknown='use_encoded_value', \n",
    "                unknown_value=-1), categorical_features)\n",
    "        ]\n",
    "    )\n",
    ")"
   ]
  },
  {
   "cell_type": "code",
   "execution_count": 33,
   "id": "c18cd3cc",
   "metadata": {},
   "outputs": [],
   "source": [
    "# The last step is to set the model we will be using\n",
    "regressor = ('model', RandomForestRegressor(n_jobs=-1, random_state=42))"
   ]
  },
  {
   "cell_type": "code",
   "execution_count": 34,
   "id": "fa9378b4",
   "metadata": {},
   "outputs": [],
   "source": [
    "# Now we can define the pipeline\n",
    "pipeline = Pipeline([\n",
    "    feature_engineering,\n",
    "    preprocessor,\n",
    "    regressor]\n",
    ")"
   ]
  },
  {
   "cell_type": "markdown",
   "id": "10c1c4e6",
   "metadata": {},
   "source": [
    "## Scaling the target variable\n",
    "\n",
    "Before training our model, let's also scale our target variable"
   ]
  },
  {
   "cell_type": "code",
   "execution_count": 35,
   "id": "f3d73f52",
   "metadata": {},
   "outputs": [],
   "source": [
    "# Scaler target variable\n",
    "model = TransformedTargetRegressor(\n",
    "    regressor=pipeline, transformer=StandardScaler())"
   ]
  },
  {
   "cell_type": "markdown",
   "id": "9a666b8e",
   "metadata": {},
   "source": [
    "## Training the model\n",
    "\n",
    "To train the model we will set some basic grid search\n"
   ]
  },
  {
   "cell_type": "code",
   "execution_count": 36,
   "id": "7abe13db",
   "metadata": {},
   "outputs": [],
   "source": [
    "param_grid = {\n",
    "    'regressor__model__n_estimators': [10, 100, 300],\n",
    "    'regressor__model__max_depth': [None, 10, 20],\n",
    "    'regressor__model__min_samples_split': [2, 5, 10],\n",
    "    'regressor__model__min_samples_leaf': [1, 2, 4],\n",
    "    'regressor__model__max_features': ['sqrt', 'log2', None]\n",
    "}"
   ]
  },
  {
   "cell_type": "code",
   "execution_count": 37,
   "id": "a2cf0fc8",
   "metadata": {},
   "outputs": [],
   "source": [
    "# Define MAPE as the scoring parameter \n",
    "mape_scorer = make_scorer(mean_absolute_percentage_error, \\\n",
    "                          greater_is_better=False)\n",
    "\n",
    "# Define grid random forest search\n",
    "grid_search_rf = GridSearchCV(\n",
    "    estimator=model,\n",
    "    param_grid=param_grid,\n",
    "    cv=5,\n",
    "    scoring=mape_scorer,\n",
    "    n_jobs=-1,\n",
    "    verbose=0\n",
    ")"
   ]
  },
  {
   "cell_type": "code",
   "execution_count": 38,
   "id": "5f980d65",
   "metadata": {},
   "outputs": [],
   "source": [
    "# Define features and label variables\n",
    "X = df[numeric_features + categorical_features + bool_features].copy()\n",
    "y = df['price'].copy()\n",
    "\n",
    "# Split data into train and test \n",
    "# IMPORTANT: the MAPE validation must be performed in a TEST dataset\n",
    "X_train, X_test, y_train, y_test = train_test_split(\n",
    "    X, y, test_size=0.2, random_state=42)"
   ]
  },
  {
   "cell_type": "markdown",
   "id": "de39560c",
   "metadata": {},
   "source": [
    "Train you model using these lines of code:\n",
    "```python\n",
    "random_forest = grid_search_rf.fit(X_train, y_train)\n",
    "random_forest = random_forest.best_estimator_\n",
    "```\n",
    "Here we will load our already saved model\n"
   ]
  },
  {
   "cell_type": "code",
   "execution_count": 39,
   "id": "76297f64",
   "metadata": {},
   "outputs": [],
   "source": [
    "import joblib\n",
    "random_forest = joblib.load('./examples/random_forest.pkl')"
   ]
  },
  {
   "cell_type": "code",
   "execution_count": 40,
   "id": "61912d2c",
   "metadata": {},
   "outputs": [
    {
     "name": "stdout",
     "output_type": "stream",
     "text": [
      "train: 0.09\n",
      "test: 0.20\n"
     ]
    }
   ],
   "source": [
    "# Predictions for train and test dataset\n",
    "y_pred_train_rf = random_forest.predict(X_train)\n",
    "y_pred_test_rf = random_forest.predict(X_test)\n",
    "\n",
    "train_metric = mean_absolute_percentage_error(y_train, y_pred_train_rf)\n",
    "test_metric = mean_absolute_percentage_error(y_test, y_pred_test_rf)\n",
    "\n",
    "print('train:', f'{train_metric:.2f}')\n",
    "print('test:', f'{test_metric:.2f}')"
   ]
  },
  {
   "cell_type": "markdown",
   "id": "dc16b987",
   "metadata": {},
   "source": [
    "Looks like we have a decent model! Let's see how we can prepare it to fit the project standards."
   ]
  },
  {
   "cell_type": "markdown",
   "id": "6131cb68",
   "metadata": {},
   "source": [
    "# Model checklist\n",
    "\n",
    "Before starting the model preparation, let's remember our constraints. If your model doesn't fit one of these constraints, you should [start from the beginning](#creating-the-model).\n",
    "\n",
    "- ✅ My model has less than 500 MB in size.\n",
    "- ✅ My model has MAPE <= 20% in a test dataset.\n",
    "- ✅ All of my model’s primary inputs are among the [provided input types](#input-types).\n",
    "- ✅ My model has an end-to-end pipeline, in other words, it's is capable of providing the prediction receiving only the primary inputs. Feature engineering, transformations and any other aspect of the workflow is part of the pipeline."
   ]
  },
  {
   "cell_type": "markdown",
   "id": "a87d9466",
   "metadata": {},
   "source": [
    "## ⚠️ About Model Compatibility\n",
    "\n",
    "If you created your model outside our environment, you might encounter compatibility issues due to library version conflicts. To minimize these problems, our help module re-saves it in an MLflow format that is compatible with the project environment. While this works in most cases, it may sometimes fail, which is why you should test it running predictions at the end of this guide."
   ]
  },
  {
   "cell_type": "markdown",
   "id": "4c5fdcc0",
   "metadata": {},
   "source": [
    "# Preparing your model\n",
    "\n",
    "Preparing your model involves converting the required inputs for prediction into the format recognized by the project’s API, as well as filling in some metadata about your model for identification and registration in our database. The whole process consists in:\n",
    "\n",
    "- Preparing inputs\n",
    "- Preparing cities\n",
    "- Preparing metadata\n",
    "- Creating the modelzip\n",
    "- Populating the database for test\n",
    "\n",
    "Luckly we provide classes and functions to assist with all these steps."
   ]
  },
  {
   "cell_type": "markdown",
   "id": "61fd92cf",
   "metadata": {},
   "source": [
    "## Preparing inputs\n",
    "\n",
    "Preparing inputs consists in creating an Inputs class from the `model_logging` module for each primary input of your model. We call `primary input` those inputs that you need to retrieve from the user in order to predict using your model. In our example, the primary inputs are:\n",
    "\n",
    "- neighbourhood\n",
    "- area\n",
    "- rooms\n",
    "- parking\n",
    "- bathrooms\n",
    "- lat_value\n",
    "- lon_value\n",
    "- has_multiple_parking_spaces\n",
    "\n",
    "Those are the data we must retrieve from our user. Notice that `avg_room_size` is not here because it's part of the feature engineering process, capsuled into our pipeline.\n",
    "\n",
    "Inputs class demands the following information:\n",
    "\n",
    "- column_name (str): The column name in the model.\n",
    "\n",
    "- lat (str): column name for the latitude parameter in the model when using type `map`.\n",
    "\n",
    "- lng (str): column name for the longitude parameter in the model when using type `map`.\n",
    "\n",
    "- label (str): The name to be displayed in the Streamlit app.\n",
    "\n",
    "- type (str): The type of the input. Must be one of the following options:\n",
    "    - \"bool\": A boolean parameter.\n",
    "    - \"int\": An int parameter.\n",
    "    - \"float\": A float parameter.\n",
    "    - \"categorical\": A categorical parameter. If choosing \"categorical\" you must specify the options attribute.\n",
    "    - \"map\": A lat and lng coordinate rendered as a map.\n",
    "\n",
    "- options (list[str]): The options of the categorical parameter.\n",
    "\n",
    "- description (Optional[str] = None, optional): A brief description of the parameter.\n",
    "\n",
    "- unit (Optional[str] = None, optional): Unit of measurement associated with the parameter.\n",
    "\n",
    "Let's create them for our model"
   ]
  },
  {
   "cell_type": "code",
   "execution_count": 41,
   "id": "e2d98aca",
   "metadata": {},
   "outputs": [],
   "source": [
    "# Import classes\n",
    "from mlflow_client.model_logging import Inputs\n",
    "\n",
    "# Int and float features\n",
    "rooms = Inputs(\n",
    "    column_name='rooms',\n",
    "    label='Quartos', # Use user's language\n",
    "    type='int',\n",
    "    description='Número de quartos do imóvel.' # Use user's language\n",
    ")\n",
    "parking = Inputs(\n",
    "    column_name='parking',\n",
    "    label='Vagas', # Use user's language\n",
    "    type='int',\n",
    "    description='Número de vagas do imóvel.' # Use user's language\n",
    ")\n",
    "bathrooms = Inputs(\n",
    "    column_name='bathrooms',\n",
    "    label='Banheiros', # Use user's language\n",
    "    type='int',\n",
    "    description='Número de banheiros do imóvel.' # Use user's language\n",
    ")\n",
    "area = Inputs(\n",
    "    column_name='area',\n",
    "    label='Área', # Use user's language\n",
    "    type='float',\n",
    "    description='Tamanho do imóvel.' # Use user's language\n",
    ")"
   ]
  },
  {
   "cell_type": "code",
   "execution_count": 42,
   "id": "6acd0a5a",
   "metadata": {},
   "outputs": [],
   "source": [
    "# Bool features\n",
    "bool_parking_spaces = Inputs(\n",
    "    column_name='has_multiple_parking_spaces',\n",
    "    label='Múltiplas vagas de garagem.',\n",
    "    type='bool',\n",
    "    description='Se o seu imóvel possui mais de uma vaga de garagem.'\n",
    ")"
   ]
  },
  {
   "cell_type": "markdown",
   "id": "39dced83",
   "metadata": {},
   "source": [
    "**⚠️ ATTENTION ⚠️**\n",
    "\n",
    "Categorical features must provide the options for the user to choose. Since we used\n",
    "```python\n",
    "\"ordinal\", OrdinalEncoder(\n",
    "    handle_unknown='use_encoded_value', \n",
    "    unknown_value=-1)\n",
    "```\n",
    "for our encoder, we must also provide a generic value for the user to choose if his neighbourhood is not available.\n",
    "\n",
    "We also must used our `X_train` to generate the list, since the model was based in it's options"
   ]
  },
  {
   "cell_type": "code",
   "execution_count": 43,
   "id": "0f6fd903",
   "metadata": {},
   "outputs": [],
   "source": [
    "# Categorical features\n",
    "options = X_train['neighbourhood'].unique().tolist()\n",
    "\n",
    "# 'Outros' is the generic non listed category\n",
    "options.append('Outros')\n",
    "\n",
    "neighbourhood = Inputs(\n",
    "    column_name='neighbourhood',\n",
    "    label='Bairro',\n",
    "    type='categorical',\n",
    "    description='Bairro do seu imóvel.',\n",
    "    options=options\n",
    ")"
   ]
  },
  {
   "cell_type": "markdown",
   "id": "b6e9bf5c",
   "metadata": {},
   "source": [
    "***But what about latitude and longitude?***\n",
    "\n",
    "When it comes to coordinates, we use a folium map to get this information from our user, so they don't need to get them manually.\n",
    "\n",
    "For this reason we created a special input type `map` that will define both coordinates parameters, lat and lng. To create a map input, simply set `column_name` to an empty string, and define `lat` and `lng` with the respective column name in your model."
   ]
  },
  {
   "cell_type": "code",
   "execution_count": 44,
   "id": "6fd54d5f",
   "metadata": {},
   "outputs": [],
   "source": [
    "# Map input\n",
    "map_input = Inputs(\n",
    "    column_name='',          # Set to empty string\n",
    "    lat='lat_value',         # Name of latitude columns in our model\n",
    "    lng='lon_value',         # Name of latitude columns in our model\n",
    "    label='Coordenadas',\n",
    "    type='map'\n",
    ")"
   ]
  },
  {
   "cell_type": "markdown",
   "id": "1cb2848f",
   "metadata": {},
   "source": [
    "## Preparing cities\n",
    "\n",
    "The Cities class ensures uniqueness and a standardized definition for each city in our model. It relies on the Wikidata API to retrieve official information, such as city name and administrative divisions. To use it, you just need the city’s Wikidata ID. To find it:\n",
    "\n",
    "1. Go to the [Wikidata website](https://www.wikidata.org/wiki/)\n",
    "\n",
    "2. Search for your city’s page.\n",
    "\n",
    "3. The Wikidata ID will appear in parentheses next to the city name, or at the end of the page URL.\n",
    "\n",
    "![Minha imagem](/assets/wikidata_id.png)\n",
    "\n",
    "Let's create our class for São José dos Campos"
   ]
  },
  {
   "cell_type": "code",
   "execution_count": 45,
   "id": "0d1f3333",
   "metadata": {},
   "outputs": [],
   "source": [
    "from mlflow_client.model_logging import Cities\n",
    "\n",
    "city = Cities(wikidata_id='Q191642')"
   ]
  },
  {
   "cell_type": "markdown",
   "id": "b8d5b6b0",
   "metadata": {},
   "source": [
    "## Preparing model\n",
    "\n",
    "Preparing the model consists in filling some metadata information to tell us about it and about you, as well as configuring it to use the input class we just created.\n",
    "\n",
    "There's another thing you must do before creating this class: to prevent our codebase from becoming too large in terms of file size, the models are not versioned in it. In the next section of this guide, we will create a zip file that must be uploaded to a well-known file-sharing or cloud storage platform (Google Drive, Dropbox, etc.). This is how reviewers will have access to your model and its metadata. Prepare a folder to upload this file and keep its url for the next step."
   ]
  },
  {
   "cell_type": "markdown",
   "id": "8c4a8e5f",
   "metadata": {},
   "source": [
    "With the url in hands, we will use the `ModelLogInput` class to validate the model according to the project standards. Let's take a look in the class constructor parameters we must provide.\n",
    "\n",
    "- model (Any): A machine learning model compatible with the MLflow library.\n",
    "- model_link (str): The link where you will upload the zip file. The link must be from a reputable file-sharing or cloud storage platform (e.g., Google Drive, Dropbox, OneDrive) to ensure reliable access and security.\n",
    "- flavor (str): The library used to create the model. Must be one of the following options:\n",
    "    - \"sklearn\"\n",
    "    - \"xgboost\"\n",
    "    - \"lightgbm\"\n",
    "    - \"keras\"\n",
    "    - \"tensorflow\"\n",
    "- x_test (pd.DataFrame): A sample of 100 rows from the model's `test data`, used for validation and logging.\n",
    "- y_test (pd.Series | np.ndarray): The label value associated with the x_test data, used for validation and logging.\n",
    "- author (Optional[str], optional): The author of the model.\n",
    "- algorithm (str): The algorithm used to train the model (e.g., linear regression, random forest, XGBoost, etc.).\n",
    "- data_year (int): The earliest year of the data used to train the model.\n",
    "- cities (list[Cities]): A list of cities where the model can make predictions as Cities class.\n",
    "- inputs (list[Inputs]): A list of user-provided inputs required to make a prediction. Do not include feature engineering parameters. This list should contain only the inputs explicitly required from the user.\n",
    "- links (Optional[dict[str, str]]): A dict of usefull URL's for the model. Use it to share notebooks, Github pages, Linkedin and other resources. Theses links will be displayed in the bottom of the Streamlit application."
   ]
  },
  {
   "cell_type": "code",
   "execution_count": 46,
   "id": "710236a2",
   "metadata": {},
   "outputs": [],
   "source": [
    "from mlflow_client.model_logging import ModelLogInput\n",
    "\n",
    "# Create a 100 values sample of the test features and labels\n",
    "X_sample = X_test.sample(n=100, random_state=42)\n",
    "y_sample = y_test.loc[X_sample.index]\n",
    "\n",
    "model_log_data = {\n",
    "    'model': random_forest,\n",
    "    'model_link': \"url_to_the_place_you'll_save_the_model\",\n",
    "    'flavor': \"sklearn\",\n",
    "    'x_test': X_sample,\n",
    "    'y_test': y_sample,\n",
    "    'author': 'Marcus Zucareli',\n",
    "    'algorithm': 'random forest',\n",
    "    'data_year': 2024,\n",
    "    'cities': [city],\n",
    "    'inputs': [rooms, parking, bathrooms, area, bool_parking_spaces, \n",
    "               neighbourhood, map_input],\n",
    "    'links': {\n",
    "        'linkedin':'https://www.linkedin.com/in/marcus-zucareli/?locale=en_US',\n",
    "        'github':'https://github.com/marcuszucareli',\n",
    "        'some_amazing_website': 'https://www.pudim.com.br/'\n",
    "    }\n",
    "}\n",
    "\n",
    "model_class = ModelLogInput(**model_log_data)"
   ]
  },
  {
   "cell_type": "markdown",
   "id": "a24897d7",
   "metadata": {},
   "source": [
    "With our isntance created, all you have to do is to generate the zip file using the `generate_zip` method. It will create the zip file you'll have to upload in the URL you provided in the `model_link` parameter. Run the cell bellow and check the `model_development` folder."
   ]
  },
  {
   "cell_type": "code",
   "execution_count": 47,
   "id": "2af28b34",
   "metadata": {},
   "outputs": [
    {
     "name": "stdout",
     "output_type": "stream",
     "text": [
      "\n",
      "Your model has been saved in the ./model_development folder as 379f1717-2d60-4155-9f33-3bd7e7e69cd7.zip.\n",
      "To complete your contribution, please follow these steps:\n",
      "\n",
      "- Upload the zip file to the location you specified in the `model_link` parameter.\n",
      "- Create a copy of the model contribution template available at `./docs/templates/model_contribution.yml` and fill it out.\n",
      "- Open an issue in the project repository and include the completed template.\n",
      "\n"
     ]
    }
   ],
   "source": [
    "folder_path = model_class.generate_zip()"
   ]
  },
  {
   "cell_type": "markdown",
   "id": "87b47428",
   "metadata": {},
   "source": [
    "## Testing your model\n",
    "\n",
    "Perfect! Before following the last instructions printed in the function's output, let's test our model.\n",
    "\n",
    "⚠️ But attention: the `test_my_model()` method will reinitialise the dev database, as well as clean the `tmp/ingestion` and `tmp/storage folder.`\n"
   ]
  },
  {
   "cell_type": "code",
   "execution_count": 48,
   "id": "7e16610b",
   "metadata": {},
   "outputs": [],
   "source": [
    "model_class.test_my_model(f'{folder_path}.zip')"
   ]
  },
  {
   "cell_type": "markdown",
   "id": "910c39f6",
   "metadata": {},
   "source": [
    "Now that your model has been added to the test dabase you can [test it in our web abb](http://localhost:8080). Make at least one prediction and see if it returns it correctly."
   ]
  }
 ],
 "metadata": {
  "kernelspec": {
   "display_name": "Python 3",
   "language": "python",
   "name": "python3"
  },
  "language_info": {
   "codemirror_mode": {
    "name": "ipython",
    "version": 3
   },
   "file_extension": ".py",
   "mimetype": "text/x-python",
   "name": "python",
   "nbconvert_exporter": "python",
   "pygments_lexer": "ipython3",
   "version": "3.13.3"
  }
 },
 "nbformat": 4,
 "nbformat_minor": 5
}
